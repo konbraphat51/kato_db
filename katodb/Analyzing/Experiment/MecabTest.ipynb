{
 "cells": [
  {
   "cell_type": "markdown",
   "metadata": {},
   "source": [
    "# MeCabを試すサンプル"
   ]
  },
  {
   "cell_type": "code",
   "execution_count": 1,
   "metadata": {},
   "outputs": [],
   "source": [
    "import MeCab"
   ]
  },
  {
   "cell_type": "code",
   "execution_count": 2,
   "metadata": {},
   "outputs": [
    {
     "data": {
      "text/plain": [
       "'はんじょう\\t名詞,固有名詞,人名,一般,*,*,*,はんじょう,ハンジョウ,ハンジョウ\\nの\\t助詞,格助詞,*,*,*,*,ノ,の,の,ノ,の,ノ,和,*,*,*,*,*,*,格助,ノ,ノ,ノ,ノ,*,名詞%F1,*,7968444268028416,28989\\nカード\\t名詞,普通名詞,一般,*,*,*,カード,カード-card,カード,カード,カード,カード,外,*,*,*,*,*,*,体,カード,カード,カード,カード,1,C1,*,2163572629185024,7871\\nショップ\\t名詞,普通名詞,一般,*,*,*,ショップ,ショップ-shop,ショップ,ショップ,ショップ,ショップ,外,*,*,*,*,*,*,体,ショップ,ショップ,ショップ,ショップ,1,C1,*,4682004012605952,17033\\nに\\t助詞,格助詞,*,*,*,*,ニ,に,に,ニ,に,ニ,和,*,*,*,*,*,*,格助,ニ,ニ,ニ,ニ,*,名詞%F1,*,7745518285496832,28178\\n行き\\t動詞,非自立可能,*,*,五段-カ行,連用形-一般,イク,行く,行き,イキ,行く,イク,和,*,*,*,*,*,*,用,イキ,イク,イキ,イク,0,C2,*,470874511778433,1713\\nまし\\t助動詞,*,*,*,助動詞-マス,連用形-一般,マス,ます,まし,マシ,ます,マス,和,*,*,*,*,*,*,助動,マシ,マス,マシ,マス,*,動詞%F4@1,*,9812325267808897,35697\\nた\\t助動詞,*,*,*,助動詞-タ,終止形-一般,タ,た,た,タ,た,タ,和,*,*,*,*,*,*,助動,タ,タ,タ,タ,*,\"動詞%F2@1,形容詞%F4@-2\",*,5948916285711019,21642\\nEOS\\n'"
      ]
     },
     "execution_count": 2,
     "metadata": {},
     "output_type": "execute_result"
    }
   ],
   "source": [
    "tagger = MeCab.Tagger('-r \"C:/Program Files/MeCab/etc/mecabrc\" -u \"C:/Program Files/MeCab/dic/unidic_kato.dic\"')\n",
    "\n",
    "tagger.parse(\"はんじょうのカードショップに行きました\")"
   ]
  },
  {
   "cell_type": "code",
   "execution_count": null,
   "metadata": {},
   "outputs": [],
   "source": []
  }
 ],
 "metadata": {
  "kernelspec": {
   "display_name": "kato-db",
   "language": "python",
   "name": "python3"
  },
  "language_info": {
   "codemirror_mode": {
    "name": "ipython",
    "version": 3
   },
   "file_extension": ".py",
   "mimetype": "text/x-python",
   "name": "python",
   "nbconvert_exporter": "python",
   "pygments_lexer": "ipython3",
   "version": "3.9.17"
  },
  "orig_nbformat": 4
 },
 "nbformat": 4,
 "nbformat_minor": 2
}
